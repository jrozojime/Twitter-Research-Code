{
 "cells": [
  {
   "cell_type": "code",
   "execution_count": 7,
   "metadata": {},
   "outputs": [],
   "source": [
    "import json\n",
    "import csv\n",
    "import tweepy as tw\n",
    "import re\n",
    "import datetime\n",
    "import sys\n",
    "import pandas as pd\n",
    "import numpy as np\n",
    "import credentials\n",
    "import os\n",
    "import unicodedata"
   ]
  },
  {
   "cell_type": "code",
   "execution_count": 22,
   "metadata": {},
   "outputs": [],
   "source": [
    "def remove_tilds(text):\n",
    "    return ''.join(c for c in unicodedata.normalize('NFD',text) if unicodedata.category(c) != 'Mn')"
   ]
  },
  {
   "cell_type": "code",
   "execution_count": 9,
   "metadata": {},
   "outputs": [],
   "source": [
    "def remove_sht(text):\n",
    "    return ' '.join(re.sub(\"^\\s+|\\n|\\r|\\s+|^@\\w+\\W|@\\w+|([^0-9A-Za-z \\t])|(\\w+:\\/\\/\\S+)\",\" \", text).split()) "
   ]
  },
  {
   "cell_type": "code",
   "execution_count": 10,
   "metadata": {},
   "outputs": [
    {
     "data": {
      "text/plain": [
       "'/Users/JuanCa/Documents/Магистратура 2019/ВКР/Thesis Data/00 Python/JC TweePy'"
      ]
     },
     "execution_count": 10,
     "metadata": {},
     "output_type": "execute_result"
    }
   ],
   "source": [
    "os.getcwd()"
   ]
  },
  {
   "cell_type": "code",
   "execution_count": 224,
   "metadata": {},
   "outputs": [],
   "source": [
    "# Consume:\n",
    "CONSUMER_KEY    = 'dgTbayABnz0Z4rwaGakrqtDqG'\n",
    "CONSUMER_SECRET = 'yIsEsQltTsW86eIWpaMEYR6YSwCRwqhiwvR2ypLe3YY9A84rYI'\n",
    "# Access:\n",
    "ACCESS_TOKEN  = '2246364579-LlvsqO6SpG332aKseGRujrfhlWXwVbYl2X9s3aH'\n",
    "ACCESS_SECRET = 'wYlewWDmJr8eI0M5MMUQglosNxx6kBnJUuXlA8awG985Y'"
   ]
  },
  {
   "cell_type": "code",
   "execution_count": 225,
   "metadata": {},
   "outputs": [],
   "source": [
    "auth = tw.OAuthHandler(CONSUMER_KEY, CONSUMER_SECRET)\n",
    "auth.set_access_token(ACCESS_TOKEN, ACCESS_SECRET)\n",
    "\n",
    "api = tw.API(auth, wait_on_rate_limit=True)"
   ]
  },
  {
   "cell_type": "code",
   "execution_count": 226,
   "metadata": {},
   "outputs": [],
   "source": [
    "search_col='presidente+eterno -filter:retweets'\n",
    "\n",
    "t_tweets=[]\n",
    "\n",
    "for tweet in tw.Cursor(api.search,q=search_col,lang='es', since='2019-02-28',tweet_mode=\"extended\").items(500):\n",
    "    t_tweets.append(tweet)"
   ]
  },
  {
   "cell_type": "code",
   "execution_count": 227,
   "metadata": {},
   "outputs": [],
   "source": [
    "tweets_df = pd.DataFrame(vars(t_tweets[i]) for i in range(len(t_tweets)))"
   ]
  },
  {
   "cell_type": "code",
   "execution_count": 228,
   "metadata": {},
   "outputs": [],
   "source": [
    "tweet_atts = ['created_at','full_text','source_url',]"
   ]
  },
  {
   "cell_type": "code",
   "execution_count": 229,
   "metadata": {},
   "outputs": [],
   "source": [
    "tweets_df = tweets_df[tweet_atts]"
   ]
  },
  {
   "cell_type": "code",
   "execution_count": 234,
   "metadata": {},
   "outputs": [
    {
     "name": "stdout",
     "output_type": "stream",
     "text": [
      "0         feliz cumpleano presidente eterno de barcelona\n",
      "1      dios es grande como dijo nuestro eterno presid...\n",
      "2      esperemos quede en 6 anos y no aplique una con...\n",
      "3      heroesdelapatria nuestro eterno homenaje a eso...\n",
      "4          toda la razon tiene nuestro eterno presidente\n",
      "5      la unica forma de frenar esto es que ustedes c...\n",
      "6      toxico terco y pendejo me recuerda a un a pres...\n",
      "7      presidente de austria iglesia cristiana evange...\n",
      "8      pues podria empezar por asumir su responsabili...\n",
      "9      jajajajajajajaja un buen chiste para un pais s...\n",
      "10     deslizamientoanunciadosiono todo esto es el de...\n",
      "11        me recuerdas que ex presidente eterno lo trago\n",
      "12     gracias eterno presidente por todas estas obra...\n",
      "13     en 12 anos debio de haberse dado cuenta que es...\n",
      "14     yo creo que no tenemos presidente tenemos un c...\n",
      "15     otra mente preclara que esta dentro del gusto ...\n",
      "16     muy cierto presidente firme en sus apreciacion...\n",
      "17     hoy en el diadelatierra y luego de una exitosa...\n",
      "18     mexico no tiene presidente solo hay un enfermo...\n",
      "19     en colombia no hay conciencia politica aqui no...\n",
      "20     diadelatierra pues muy sencillo fumigar con gl...\n",
      "21     ahhh pero miren se parece al presidente eterno...\n",
      "22     el eterno candidato a la defensiva que se sien...\n",
      "23     entonces ya tenemos toda una generacion de tan...\n",
      "24     entonces son tantos los ninos que le dicen duq...\n",
      "25     mientras haya colombia humana en cabeza de pet...\n",
      "26     en infocentro celebramos el dia mundial de la ...\n",
      "27     pero si los mismos grupos cristianos de garaje...\n",
      "28     a mexico le urge ya un presidente de a deveras...\n",
      "29     no entiende por que no es un presidente en rea...\n",
      "                             ...                        \n",
      "470    presidente eterno deberia sigue el ejemplo de ...\n",
      "471    presidente eterno deberia sigue el ejemplo de ...\n",
      "472    y de tu presidente eterno del subpresidente de...\n",
      "473    presidente eterno deberia sigue el ejemplo de ...\n",
      "474    presidente eterno deberia sigue el ejemplo de ...\n",
      "475    hijita en nuestro gobierno o en el gobierno q ...\n",
      "476    le tengo uno mejor es presidente y de apellido...\n",
      "477    a los uribistas les parece plana esos mismos q...\n",
      "478    jajaja es la mejor humorista que tiene el cent...\n",
      "479    la figura de subpresidente no existe menos de ...\n",
      "480    su lider y eterno presidente que lameculos es ...\n",
      "481    presidente del peru que el senor y la santa ma...\n",
      "482    nina tambien el presidente eterno su titere y ...\n",
      "483    y ve terminan de presidente eterno y otro de s...\n",
      "484    llevaran ayuda economica para la reconstruccio...\n",
      "485    en colombia los que se beneficiaron de las mas...\n",
      "486    a mi me preocupa escuchar hablar asi al presid...\n",
      "487    recemos por el alma del ex presidente alan gar...\n",
      "488    nooo en serio y todos pensando que queria modi...\n",
      "489    y como los medios de informacion no informan c...\n",
      "490    muy bien sr presidente ejemplo de dignidad viv...\n",
      "491    con orgullo usted aprueba la muerte de muchos ...\n",
      "492    hay q aconsejar al eterno presidente q tenga e...\n",
      "493    de acuerdo senora entonces digale a su eterno ...\n",
      "494    pegarse un tiro es la unica via que le queda a...\n",
      "495    corrupto jose felix lafaurie y por que solo ha...\n",
      "496    que no se note la inquina maestro y ademas pif...\n",
      "497    y respaldar a nuestro presidente eterno y muro...\n",
      "498    menos mal los uribistas son tan independientes...\n",
      "499    expreso mi mas sentida condolencia a la famili...\n",
      "Name: full_text, Length: 500, dtype: object\n"
     ]
    }
   ],
   "source": [
    "print(tweets_df['full_text'])"
   ]
  },
  {
   "cell_type": "code",
   "execution_count": 231,
   "metadata": {},
   "outputs": [],
   "source": [
    "tweets_df['full_text']=tweets_df['full_text'].str.lower()"
   ]
  },
  {
   "cell_type": "code",
   "execution_count": 232,
   "metadata": {},
   "outputs": [],
   "source": [
    "tweets_df['full_text']=tweets_df['full_text'].apply(remove_tilds)"
   ]
  },
  {
   "cell_type": "code",
   "execution_count": 233,
   "metadata": {},
   "outputs": [],
   "source": [
    "tweets_df['full_text']=tweets_df['full_text'].apply(remove_sht)"
   ]
  },
  {
   "cell_type": "code",
   "execution_count": 235,
   "metadata": {},
   "outputs": [],
   "source": [
    "tweets_df.to_csv('/Users/JuanCa/Documents/Магистратура 2019/ВКР/Thesis Data/00 Python/JC TweePy/Old Terms/presidente eterno.csv', sep=',',encoding='utf-8')"
   ]
  },
  {
   "cell_type": "code",
   "execution_count": null,
   "metadata": {},
   "outputs": [],
   "source": []
  }
 ],
 "metadata": {
  "kernelspec": {
   "display_name": "Python 3",
   "language": "python",
   "name": "python3"
  },
  "language_info": {
   "codemirror_mode": {
    "name": "ipython",
    "version": 3
   },
   "file_extension": ".py",
   "mimetype": "text/x-python",
   "name": "python",
   "nbconvert_exporter": "python",
   "pygments_lexer": "ipython3",
   "version": "3.7.1"
  }
 },
 "nbformat": 4,
 "nbformat_minor": 2
}
